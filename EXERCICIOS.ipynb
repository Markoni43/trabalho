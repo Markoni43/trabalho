{
  "nbformat": 4,
  "nbformat_minor": 0,
  "metadata": {
    "colab": {
      "provenance": [],
      "authorship_tag": "ABX9TyM69izbppBhI1Tm6gvhWr4d",
      "include_colab_link": true
    },
    "kernelspec": {
      "name": "python3",
      "display_name": "Python 3"
    },
    "language_info": {
      "name": "python"
    }
  },
  "cells": [
    {
      "cell_type": "markdown",
      "metadata": {
        "id": "view-in-github",
        "colab_type": "text"
      },
      "source": [
        "<a href=\"https://colab.research.google.com/github/Markoni43/trabalho/blob/main/EXERCICIOS.ipynb\" target=\"_parent\"><img src=\"https://colab.research.google.com/assets/colab-badge.svg\" alt=\"Open In Colab\"/></a>"
      ]
    },
    {
      "cell_type": "markdown",
      "source": [
        "EXERCICIO 1\n"
      ],
      "metadata": {
        "id": "NxCWHGjYQz2E"
      }
    },
    {
      "cell_type": "code",
      "source": [
        "pi = 3.14\n",
        "raio = int(input(\"Digite o raio: \"))\n",
        "area = (pi * raio * raio)\n",
        "print(\"A area do circulo é\", area )"
      ],
      "metadata": {
        "colab": {
          "base_uri": "https://localhost:8080/"
        },
        "id": "48-vo8auBEUc",
        "outputId": "2becf485-ab07-4865-e343-266ecf8e6e09"
      },
      "execution_count": null,
      "outputs": [
        {
          "output_type": "stream",
          "name": "stdout",
          "text": [
            "Digite o raio: 15\n",
            "A area do circulo é 706.5\n"
          ]
        }
      ]
    },
    {
      "cell_type": "markdown",
      "source": [
        "EXERCICIO 2"
      ],
      "metadata": {
        "id": "sdhiMaYtTDSn"
      }
    },
    {
      "cell_type": "code",
      "source": [
        "potencia_da_lampada = float(input('Digite a potencia da lampada: '))\n",
        "largura = float(input(\"Digite a largura: \"))\n",
        "comprimento = float(input(\"Digite o comprimento: \"))\n",
        "\n",
        "dimensoes_do_comodo = largura*comprimento\n",
        "potencia = dimensoes_do_comodo * 18\n",
        "quantidade_lampadas = potencia/potencia_da_lampada\n",
        "\n",
        "print(\"A quantidade de lampadas necesssarias para iluminar o comodo é\", quantidade_lampadas)"
      ],
      "metadata": {
        "id": "2uPy1MW0DYj_",
        "colab": {
          "base_uri": "https://localhost:8080/"
        },
        "outputId": "27d2106d-7d61-4564-bf34-1c4c69cbb132"
      },
      "execution_count": null,
      "outputs": [
        {
          "output_type": "stream",
          "name": "stdout",
          "text": [
            "Digite a potencia da lampada: 3\n",
            "Digite a largura: 6\n",
            "Digite o comprimento: 9\n",
            "A quantidade de lampadas necesssarias para iluminar o comodo é 324.0\n"
          ]
        }
      ]
    },
    {
      "cell_type": "markdown",
      "source": [
        "EXERCICIO 3"
      ],
      "metadata": {
        "id": "0N0SiHKBU5_T"
      }
    },
    {
      "cell_type": "code",
      "source": [
        "nome = str(input(\"Digite o nome:\"))\n",
        "idade = int(input(\"Digite a idade: \"))\n",
        "altura = float(input(\"Digite a altura: \"))\n",
        "peso = float(input(\"Digite o peso: \"))\n",
        "nacionalidade = str(input(\"Digite a nacionalidade: \"))\n",
        "\n",
        "print(\"nome:\", nome)\n",
        "print(\"idade\", idade)\n",
        "print(\"altura\", altura)\n",
        "print(\"peso\", peso)\n",
        "print(\"nacionalidade\", nacionalidade)"
      ],
      "metadata": {
        "colab": {
          "base_uri": "https://localhost:8080/"
        },
        "id": "CnIG8hb5U9Th",
        "outputId": "bbeb9136-8d73-43e9-e3e4-2226a561c878"
      },
      "execution_count": null,
      "outputs": [
        {
          "output_type": "stream",
          "name": "stdout",
          "text": [
            "Digite o nome:Lucian\n",
            "Digite a idade: 22\n",
            "Digite a altura: 1.77\n",
            "Digite o peso: 77.5\n",
            "Digite a nacionalidade: Italiano\n",
            "nome: Lucian\n",
            "idade 22\n",
            "altura 1.77\n",
            "peso 77.5\n",
            "nacionalidade Italiano\n"
          ]
        }
      ]
    },
    {
      "cell_type": "markdown",
      "source": [
        "EXERCICIO 4"
      ],
      "metadata": {
        "id": "2uDMoG-RXOru"
      }
    },
    {
      "cell_type": "code",
      "source": [
        "nome = str(input(\"Digite o nome do produto: \"))\n",
        "quantidade = int(input(\"Digite a quantidade comprada: \"))\n",
        "valor_unitario = float(input(\"Digite o valor unitario: \"))\n",
        "desconto = float(input(\"Digite o percentual de desconto: \"))\n",
        "valor_total = quantidade * valor_unitario\n",
        "valor_desconto = valor_total * desconto / 100\n",
        "valor_pago = valor_total - valor_desconto\n",
        "print(\"O valor total é: R$\", valor_total)\n",
        "print(\"O valor do desconto é: R$\", valor_desconto)\n",
        "print(\"O valor a pagar é: R$\", valor_pago)\n"
      ],
      "metadata": {
        "colab": {
          "base_uri": "https://localhost:8080/"
        },
        "id": "VqyOv8eWXSgN",
        "outputId": "2db23c09-299f-4efa-b036-a4cc70b74a69"
      },
      "execution_count": null,
      "outputs": [
        {
          "output_type": "stream",
          "name": "stdout",
          "text": [
            "Digite o nome do produto: Garrafa de agua\n",
            "Digite a quantidade comprada: 6\n",
            "Digite o valor unitario: 1.50\n",
            "Digite o percentual de desconto: 10\n",
            "O valor total é: R$ 9.0\n",
            "O valor do desconto é: R$ 0.9\n",
            "O valor a pagar é: R$ 8.1\n"
          ]
        }
      ]
    },
    {
      "cell_type": "markdown",
      "source": [
        "EXERCICIO 5\n"
      ],
      "metadata": {
        "id": "-3IYWXjvbFMR"
      }
    },
    {
      "cell_type": "code",
      "source": [
        "BRL = float(input(\"Digite o real brasileiro: \"))\n",
        "USD = float(input(\"Digite o dólar americano: \"))\n",
        "\n",
        "cotacao = BRL/USD\n",
        "\n",
        "print(f\"Você tem R${BRL:.2f} que convertido em dólar é US${cotacao:.2f}\")"
      ],
      "metadata": {
        "colab": {
          "base_uri": "https://localhost:8080/"
        },
        "id": "jXcyR5s6zK6n",
        "outputId": "f914c23f-c6ec-40c9-d66f-5886d7b197c7"
      },
      "execution_count": null,
      "outputs": [
        {
          "output_type": "stream",
          "name": "stdout",
          "text": [
            "Digite o real brasileiro: 15\n",
            "Digite o dólar americano: 4.97\n",
            "Você tem R$15.00 que convertido em dólar é US$3.02\n"
          ]
        }
      ]
    },
    {
      "cell_type": "markdown",
      "source": [
        "EXERCICIO 6\n"
      ],
      "metadata": {
        "id": "pE5idFXe-R-L"
      }
    },
    {
      "cell_type": "code",
      "source": [
        "altura = float(input(\"Digite a altura: \"))\n",
        "largura = float(input(\"Digite a largura: \"))\n",
        "comprimento = float(input(\"Digite o comprimento: \"))\n",
        "area_da_cozinha = (comprimento * altura) * 2 + (largura * altura ) * 2\n",
        "area_do_azulejo = 1.5\n",
        "\n",
        "numero_de_caixas = area_da_cozinha / area_do_azulejo\n",
        "\n",
        "print('A quantidade de caixas de azulejo é', f'{numero_de_caixas:.2f}')"
      ],
      "metadata": {
        "colab": {
          "base_uri": "https://localhost:8080/"
        },
        "id": "-6O5XP87-W04",
        "outputId": "8ea3ba7e-0152-43f8-e2d6-4dcf0608546d"
      },
      "execution_count": null,
      "outputs": [
        {
          "output_type": "stream",
          "name": "stdout",
          "text": [
            "Digite a altura5\n",
            "Digite a largura3\n",
            "Digite o comprimento2\n",
            "A quantidade de caixas de azulejo é 33.33\n"
          ]
        }
      ]
    },
    {
      "cell_type": "markdown",
      "source": [
        "EXERCICIO 7"
      ],
      "metadata": {
        "id": "yDuACV9OCGl9"
      }
    },
    {
      "cell_type": "code",
      "source": [
        "odometro_inicial = float(input(\"Digite o odometro inicial: \"))\n",
        "odometro_final = float(input(\"Digite o odometro final: \"))\n",
        "quantidade_combustivel_gasto = float(input(\"Digite a quantidade de combustivel que foi gasto: \"))\n",
        "lucro = float(input(\"Digite o valor arrecado: \"))\n",
        "\n",
        "media_consumo = (odometro_final - odometro_inicial) / quantidade_combustivel_gasto\n",
        "lucro_liquido = lucro - (quantidade_combustivel_gasto * 1.90)\n",
        "print(f\"O consumo médio foi de {media_consumo:.2f} litros por Km e o lucro foi de R$ {lucro_liquido:.2f}\")"
      ],
      "metadata": {
        "id": "MfuQVxhkCL8M"
      },
      "execution_count": null,
      "outputs": []
    },
    {
      "cell_type": "markdown",
      "source": [
        "EXERCICIO 8"
      ],
      "metadata": {
        "id": "rvS_icyhLrO3"
      }
    },
    {
      "cell_type": "code",
      "source": [
        "velocidade_do_som = 340\n",
        "tempo = int(input(\"Digite o tempo: \"))\n",
        "\n",
        "distancia_raio = velocidade_do_som * tempo\n",
        "\n",
        "print(\"A distancia que o raio percorreu foi de aproximadamente\", distancia_raio, \"m/s\")"
      ],
      "metadata": {
        "id": "JEhix182LtCs",
        "colab": {
          "base_uri": "https://localhost:8080/"
        },
        "outputId": "51975233-a71a-466b-f328-79387ae9cbdc"
      },
      "execution_count": null,
      "outputs": [
        {
          "output_type": "stream",
          "name": "stdout",
          "text": [
            "Digite o tempo: 6\n",
            "A distancia que o raio percorreu foi de aproximadamente 2040 m/s\n"
          ]
        }
      ]
    }
  ]
}